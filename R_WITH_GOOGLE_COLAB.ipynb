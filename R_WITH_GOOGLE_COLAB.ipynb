{
  "nbformat": 4,
  "nbformat_minor": 0,
  "metadata": {
    "colab": {
      "provenance": [],
      "gpuType": "T4",
      "authorship_tag": "ABX9TyNUABmNHrsBOf9LvaDqT06f",
      "include_colab_link": true
    },
    "kernelspec": {
      "name": "ir",
      "display_name": "R"
    },
    "language_info": {
      "name": "R"
    },
    "accelerator": "GPU"
  },
  "cells": [
    {
      "cell_type": "markdown",
      "metadata": {
        "id": "view-in-github",
        "colab_type": "text"
      },
      "source": [
        "<a href=\"https://colab.research.google.com/github/MubeenaHussain/MubeenaHussain/blob/main/R_WITH_GOOGLE_COLAB.ipynb\" target=\"_parent\"><img src=\"https://colab.research.google.com/assets/colab-badge.svg\" alt=\"Open In Colab\"/></a>"
      ]
    },
    {
      "cell_type": "code",
      "execution_count": 8,
      "metadata": {
        "id": "Ir7CKsuJlHp1"
      },
      "outputs": [],
      "source": [
        "library(tidyverse)"
      ]
    },
    {
      "cell_type": "code",
      "source": [
        "library(dplyr)\n",
        "library(data.table)\n"
      ],
      "metadata": {
        "colab": {
          "base_uri": "https://localhost:8080/"
        },
        "id": "7s7Oj4dQmCfL",
        "outputId": "f7dfa4bb-382a-4320-c928-03fb348847b2"
      },
      "execution_count": 9,
      "outputs": [
        {
          "output_type": "stream",
          "name": "stderr",
          "text": [
            "\n",
            "Attaching package: ‘data.table’\n",
            "\n",
            "\n",
            "The following objects are masked from ‘package:lubridate’:\n",
            "\n",
            "    hour, isoweek, mday, minute, month, quarter, second, wday, week,\n",
            "    yday, year\n",
            "\n",
            "\n",
            "The following objects are masked from ‘package:dplyr’:\n",
            "\n",
            "    between, first, last\n",
            "\n",
            "\n",
            "The following object is masked from ‘package:purrr’:\n",
            "\n",
            "    transpose\n",
            "\n",
            "\n"
          ]
        }
      ]
    },
    {
      "cell_type": "code",
      "source": [
        "print(installed.packages())"
      ],
      "metadata": {
        "id": "zAOQ6EeJpRA2"
      },
      "execution_count": null,
      "outputs": []
    },
    {
      "cell_type": "code",
      "source": [
        "library(tidyverse)\n",
        "library(dplyr)\n",
        "library(data.table)"
      ],
      "metadata": {
        "id": "kk3J5VFFpdJc"
      },
      "execution_count": null,
      "outputs": []
    },
    {
      "cell_type": "code",
      "source": [
        "exoplanets <- read.csv(\"exoplanets.csv\",skip = 4,comment.char = \"#\")\n",
        "head(exoplanets)"
      ],
      "metadata": {
        "id": "TVSV3z4qpqUo"
      },
      "execution_count": null,
      "outputs": []
    },
    {
      "cell_type": "markdown",
      "source": [
        "Extracting distinct discovery year and discovery method\n"
      ],
      "metadata": {
        "id": "17LfD1niqThN"
      }
    },
    {
      "cell_type": "code",
      "source": [
        "unique_discovery_year <- unique(exoplanets$disc_year)\n",
        "print(unique_discovery_year)\n",
        "\n",
        "unique_discovery_method <- unique(exoplanets$discoverymethod)\n",
        "print(unique_discovery_method)"
      ],
      "metadata": {
        "colab": {
          "base_uri": "https://localhost:8080/"
        },
        "id": "8IPtgVO6qfTZ",
        "outputId": "76a0322c-59ba-4b46-bd72-0ea1aab8b8f1"
      },
      "execution_count": 7,
      "outputs": [
        {
          "output_type": "stream",
          "name": "stdout",
          "text": [
            " [1] 2007 2009 2008 2002 1996 2020 2018 2010 2021 2013 2015 2004 2016 2006 2001\n",
            "[16] 1995 2011 2019 2012 2022 2005 2023 2017 2000 2014 1999 1998 2003 1994 1992\n",
            "[31] 1997\n",
            " [1] \"Radial Velocity\"               \"Imaging\"                      \n",
            " [3] \"Eclipse Timing Variations\"     \"Transit\"                      \n",
            " [5] \"Astrometry\"                    \"Disk Kinematics\"              \n",
            " [7] \"Microlensing\"                  \"Orbital Brightness Modulation\"\n",
            " [9] \"Pulsation Timing Variations\"   \"Transit Timing Variations\"    \n",
            "[11] \"Pulsar Timing\"                \n"
          ]
        }
      ]
    },
    {
      "cell_type": "code",
      "source": [
        "array_of_years_and_types <- data.frame(year = exoplanets$disc_year,type = exoplanets$discoverymethod)\n",
        "print(array_of_years_and_types)"
      ],
      "metadata": {
        "id": "EyL4dn0CrHFl"
      },
      "execution_count": null,
      "outputs": []
    },
    {
      "cell_type": "code",
      "source": [
        "# Load required library\n",
        "library(dplyr)\n",
        "\n",
        "# Create a data frame with the given structure\n",
        "exoplanets_years <- data.frame(\n",
        "  \"Discovery Type\" = unique(exoplanets$discoverymethod)\n",
        ")\n",
        "\n",
        "# Loop through each year\n",
        "for (year in 1989:2023) {\n",
        "  # Initialize the cumulative counts for each discovery type\n",
        "  cumulative_counts <- numeric(length(unique(exoplanets$discoverymethod)))\n",
        "\n",
        "  # Loop through each discovery type\n",
        "  for (i in 1:length(unique(exoplanets$discoverymethod))) {\n",
        "    # Calculate the cumulative count for the current year and discovery type\n",
        "    numPlanets <- sum(exoplanets$disc_year <= year & exoplanets$discoverymethod == unique(exoplanets$discoverymethod)[i])\n",
        "    cumulative_counts[i] <- numPlanets\n",
        "  }\n",
        "\n",
        "\n",
        "  # Add the cumulative counts for the current year to the data frame\n",
        "  exoplanets_years[[as.character(year)]] <- cumulative_counts\n",
        "}\n",
        "\n",
        "# Print the resulting data frame\n",
        "options(max.print = 10000)  # Adjust this number based on your data frame size\n",
        "print(exoplanets_years)\n",
        "\n",
        "\n",
        "\n"
      ],
      "metadata": {
        "id": "SdtcCf-vspo0"
      },
      "execution_count": null,
      "outputs": []
    },
    {
      "cell_type": "code",
      "source": [],
      "metadata": {
        "id": "lKtZY_cbxw98"
      },
      "execution_count": 8,
      "outputs": []
    }
  ]
}